{
  "nbformat": 4,
  "nbformat_minor": 0,
  "metadata": {
    "colab": {
      "provenance": [],
      "toc_visible": true,
      "authorship_tag": "ABX9TyO1qiH4QdKMT877+l0SL1Zf",
      "include_colab_link": true
    },
    "kernelspec": {
      "name": "python3",
      "display_name": "Python 3"
    },
    "language_info": {
      "name": "python"
    }
  },
  "cells": [
    {
      "cell_type": "markdown",
      "metadata": {
        "id": "view-in-github",
        "colab_type": "text"
      },
      "source": [
        "<a href=\"https://colab.research.google.com/github/Madhav-495/LLM-Bot/blob/main/PreProcess.ipynb\" target=\"_parent\"><img src=\"https://colab.research.google.com/assets/colab-badge.svg\" alt=\"Open In Colab\"/></a>"
      ]
    },
    {
      "cell_type": "code",
      "execution_count": null,
      "metadata": {
        "id": "MQyWyTnthlKT"
      },
      "outputs": [],
      "source": [
        "## @ RK {VBN}"
      ]
    },
    {
      "cell_type": "markdown",
      "source": [
        "# Data Preprocessing"
      ],
      "metadata": {
        "id": "HiyNCZq5mqNP"
      }
    },
    {
      "cell_type": "code",
      "source": [
        "from google.colab import drive\n",
        "drive.mount('/content/drive')"
      ],
      "metadata": {
        "colab": {
          "base_uri": "https://localhost:8080/"
        },
        "id": "AoC5CcIRnfIg",
        "outputId": "9fc4b232-6ef9-4974-9e80-4fcca18ee0b0"
      },
      "execution_count": null,
      "outputs": [
        {
          "output_type": "stream",
          "name": "stdout",
          "text": [
            "Drive already mounted at /content/drive; to attempt to forcibly remount, call drive.mount(\"/content/drive\", force_remount=True).\n"
          ]
        }
      ]
    },
    {
      "cell_type": "code",
      "source": [
        "import pandas as pd\n",
        "import re\n",
        "df = pd.read_csv('/content/drive/My Drive/air_sewa_faqs.csv')\n",
        "df = df[['faqQuestion','faqAnswer']]"
      ],
      "metadata": {
        "id": "28R_NZv4q3Yt"
      },
      "execution_count": null,
      "outputs": []
    },
    {
      "cell_type": "code",
      "source": [
        "df = df.dropna()"
      ],
      "metadata": {
        "id": "VnYAsKtBshGW"
      },
      "execution_count": null,
      "outputs": []
    },
    {
      "cell_type": "code",
      "source": [
        "new_text = df['faqQuestion'].astype(str) + ' ' + df['faqAnswer'].astype(str)\n",
        "full_text = '\\n'.join(new_text)"
      ],
      "metadata": {
        "colab": {
          "base_uri": "https://localhost:8080/"
        },
        "id": "pJ8EqIEktQRd",
        "outputId": "3d479171-cd06-4bb0-bc51-9af57cec563e"
      },
      "execution_count": null,
      "outputs": [
        {
          "output_type": "stream",
          "name": "stdout",
          "text": [
            "72268\n"
          ]
        }
      ]
    },
    {
      "cell_type": "code",
      "source": [
        "characters_to_remove = \"\\n,.():\"\n",
        "translation_table = str.maketrans('','',characters_to_remove)\n",
        "full_text = full_text.translate(translation_table)"
      ],
      "metadata": {
        "colab": {
          "base_uri": "https://localhost:8080/"
        },
        "id": "cS9mVJ10wjfk",
        "outputId": "d480c107-2b57-4bae-9af0-a64bc6638b23"
      },
      "execution_count": null,
      "outputs": [
        {
          "output_type": "stream",
          "name": "stdout",
          "text": [
            "72268\n"
          ]
        }
      ]
    },
    {
      "cell_type": "code",
      "source": [],
      "metadata": {
        "id": "v6GJCMNW5vxJ"
      },
      "execution_count": null,
      "outputs": []
    }
  ]
}