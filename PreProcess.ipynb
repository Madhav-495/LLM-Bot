{
  "cells": [
    {
      "cell_type": "markdown",
      "metadata": {
        "colab_type": "text",
        "id": "view-in-github"
      },
      "source": [
        "<a href=\"https://colab.research.google.com/github/Madhav-495/LLM-Bot/blob/main/PreProcess.ipynb\" target=\"_parent\"><img src=\"https://colab.research.google.com/assets/colab-badge.svg\" alt=\"Open In Colab\"/></a>"
      ]
    },
    {
      "cell_type": "code",
      "execution_count": null,
      "metadata": {
        "id": "MQyWyTnthlKT"
      },
      "outputs": [],
      "source": [
        "## @ RK {VBN}"
      ]
    },
    {
      "cell_type": "markdown",
      "metadata": {
        "id": "HiyNCZq5mqNP"
      },
      "source": [
        "# Data Preprocessing"
      ]
    },
    {
      "cell_type": "code",
      "execution_count": null,
      "metadata": {
        "colab": {
          "base_uri": "https://localhost:8080/"
        },
        "id": "AoC5CcIRnfIg",
        "outputId": "9fc4b232-6ef9-4974-9e80-4fcca18ee0b0"
      },
      "outputs": [
        {
          "name": "stdout",
          "output_type": "stream",
          "text": [
            "Drive already mounted at /content/drive; to attempt to forcibly remount, call drive.mount(\"/content/drive\", force_remount=True).\n"
          ]
        }
      ],
      "source": [
        "from google.colab import drive\n",
        "drive.mount('/content/drive')"
      ]
    },
    {
      "cell_type": "code",
      "execution_count": null,
      "metadata": {
        "id": "28R_NZv4q3Yt"
      },
      "outputs": [],
      "source": [
        "import pandas as pd\n",
        "import re\n",
        "df = pd.read_csv('/content/drive/My Drive/air_sewa_faqs.csv')\n",
        "df = df[['faqQuestion','faqAnswer']]"
      ]
    },
    {
      "cell_type": "code",
      "execution_count": null,
      "metadata": {
        "id": "VnYAsKtBshGW"
      },
      "outputs": [],
      "source": [
        "df = df.dropna()"
      ]
    },
    {
      "cell_type": "code",
      "execution_count": null,
      "metadata": {
        "colab": {
          "base_uri": "https://localhost:8080/"
        },
        "id": "pJ8EqIEktQRd",
        "outputId": "3d479171-cd06-4bb0-bc51-9af57cec563e"
      },
      "outputs": [
        {
          "name": "stdout",
          "output_type": "stream",
          "text": [
            "72268\n"
          ]
        }
      ],
      "source": [
        "new_text = df['faqQuestion'].astype(str) + ' ' + df['faqAnswer'].astype(str)\n",
        "full_text = '\\n'.join(new_text)"
      ]
    },
    {
      "cell_type": "code",
      "execution_count": null,
      "metadata": {
        "colab": {
          "base_uri": "https://localhost:8080/"
        },
        "id": "cS9mVJ10wjfk",
        "outputId": "d480c107-2b57-4bae-9af0-a64bc6638b23"
      },
      "outputs": [
        {
          "name": "stdout",
          "output_type": "stream",
          "text": [
            "72268\n"
          ]
        }
      ],
      "source": [
        "characters_to_remove = \"\\n,.():\"\n",
        "translation_table = str.maketrans('','',characters_to_remove)\n",
        "full_text = full_text.translate(translation_table)"
      ]
    },
    {
      "cell_type": "markdown",
      "metadata": {},
      "source": [
        "Embedding"
      ]
    },
    {
      "cell_type": "code",
      "execution_count": null,
      "metadata": {
        "id": "v6GJCMNW5vxJ"
      },
      "outputs": [],
      "source": [
        "from gensim.models import Word2Vec\n",
        "from nltk.tokenize import word_tokenize\n",
        "import nltk\n",
        "nltk.download('punkt')\n",
        "\n",
        "# Tokenize the full_text\n",
        "tokenized_text = [word_tokenize(sentence.lower()) for sentence in full_text.split('\\n')]\n",
        "\n",
        "# Train Word2Vec model\n",
        "word2vec_model = Word2Vec(sentences=tokenized_text, vector_size=100, window=5, min_count=1, workers=4)\n",
        "\n",
        "# Retrieve word vectors\n",
        "word_vectors = word2vec_model.wv\n",
        "\n",
        "# Example: Retrieve the vector for a specific word\n",
        "vector_for_word = word_vectors['example']\n",
        "\n",
        "# Example: Finding similar words\n",
        "similar_words = word_vectors.most_similar('example')\n",
        "print(similar_words)\n"
      ]
    }
  ],
  "metadata": {
    "colab": {
      "authorship_tag": "ABX9TyO1qiH4QdKMT877+l0SL1Zf",
      "include_colab_link": true,
      "provenance": [],
      "toc_visible": true
    },
    "kernelspec": {
      "display_name": "Python 3",
      "name": "python3"
    },
    "language_info": {
      "name": "python"
    }
  },
  "nbformat": 4,
  "nbformat_minor": 0
}
